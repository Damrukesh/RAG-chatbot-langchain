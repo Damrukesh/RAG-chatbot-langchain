{
 "cells": [
  {
   "cell_type": "code",
   "execution_count": 2,
   "id": "d6cb0e17",
   "metadata": {},
   "outputs": [
    {
     "name": "stdout",
     "output_type": "stream",
     "text": [
      "^C\n"
     ]
    }
   ],
   "source": [
    "!pip install --upgrade --quiet langchain langchainhub langchain-community langchain-chroma beautifulsoup4"
   ]
  },
  {
   "cell_type": "code",
   "execution_count": 3,
   "id": "a33880c6",
   "metadata": {},
   "outputs": [],
   "source": [
    "!pip install -q langchain_google_genai"
   ]
  },
  {
   "cell_type": "code",
   "execution_count": null,
   "id": "bdb864bd",
   "metadata": {},
   "outputs": [],
   "source": [
    "!pip install python-dotenv"
   ]
  },
  {
   "cell_type": "code",
   "execution_count": null,
   "id": "dcac5ee2",
   "metadata": {},
   "outputs": [],
   "source": [
    "import os\n",
    "from dotenv import load_dotenv\n",
    "\n",
    "load_dotenv()\n"
   ]
  },
  {
   "cell_type": "code",
   "execution_count": 9,
   "id": "b42aa1f6",
   "metadata": {},
   "outputs": [],
   "source": [
    "import warnings\n",
    "warnings.filterwarnings('ignore')\n",
    "from langchain_google_genai import GoogleGenerativeAIEmbeddings\n",
    "gemini_embeddings = GoogleGenerativeAIEmbeddings(\n",
    "    model=\"models/embedding-001\",\n",
    ")\n",
    "from langchain_google_genai import ChatGoogleGenerativeAI\n",
    "model = ChatGoogleGenerativeAI(model = \"gemini-2.5-pro\", convert_system_message_to_human=True)\n"
   ]
  },
  {
   "cell_type": "code",
   "execution_count": 11,
   "id": "bf81b1b1",
   "metadata": {},
   "outputs": [
    {
     "name": "stdout",
     "output_type": "stream",
     "text": [
      "There are **eight** planets in our solar system.\n",
      "\n",
      "In order from the Sun, they are:\n",
      "1.  **Mercury**\n",
      "2.  **Venus**\n",
      "3.  **Earth**\n",
      "4.  **Mars**\n",
      "5.  **Jupiter**\n",
      "6.  **Saturn**\n",
      "7.  **Uranus**\n",
      "8.  **Neptune**\n",
      "\n",
      "***\n",
      "\n",
      "### What About Pluto?\n",
      "\n",
      "You might remember learning that there were nine planets. Pluto was considered the ninth planet from its discovery in 1930 until 2006.\n",
      "\n",
      "In 2006, the International Astronomical Union (IAU) established a new definition for a planet. To be a planet, a celestial body must meet three criteria:\n",
      "1.  It must orbit the Sun.\n",
      "2.  It must be massive enough to be rounded by its own gravity.\n",
      "3.  It must have \"cleared its neighborhood\" of other objects around its orbit.\n",
      "\n",
      "Pluto meets the first two criteria, but not the third. Its orbit is located in the Kuiper Belt, a region full of other icy bodies, so it has not cleared its orbital neighborhood.\n",
      "\n",
      "Because of this, Pluto was reclassified as a **dwarf planet**. Other dwarf planets in our solar system include Eris, Ceres, Makemake, and Haumea.\n"
     ]
    }
   ],
   "source": [
    "print(model.invoke(\"how many planets are in the solar system?\").content)"
   ]
  }
 ],
 "metadata": {
  "kernelspec": {
   "display_name": ".venv (3.12.0)",
   "language": "python",
   "name": "python3"
  },
  "language_info": {
   "codemirror_mode": {
    "name": "ipython",
    "version": 3
   },
   "file_extension": ".py",
   "mimetype": "text/x-python",
   "name": "python",
   "nbconvert_exporter": "python",
   "pygments_lexer": "ipython3",
   "version": "3.12.0rc3"
  }
 },
 "nbformat": 4,
 "nbformat_minor": 5
}
